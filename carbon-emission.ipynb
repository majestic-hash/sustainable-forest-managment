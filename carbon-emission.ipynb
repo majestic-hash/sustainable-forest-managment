{
 "cells": [
  {
   "cell_type": "code",
   "execution_count": null,
   "metadata": {},
   "outputs": [],
   "source": [
    "carbon= 34\n",
    "emission = 56\n",
    "carbon_calculation = carbon * emission"
   ]
  }
 ],
 "metadata": {
  "language_info": {
   "name": "python"
  }
 },
 "nbformat": 4,
 "nbformat_minor": 2
}
